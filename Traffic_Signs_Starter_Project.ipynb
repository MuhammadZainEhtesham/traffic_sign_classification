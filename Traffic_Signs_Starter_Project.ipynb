{
  "nbformat": 4,
  "nbformat_minor": 0,
  "metadata": {
    "kernelspec": {
      "display_name": "Python 3",
      "language": "python",
      "name": "python3"
    },
    "language_info": {
      "codemirror_mode": {
        "name": "ipython",
        "version": 3
      },
      "file_extension": ".py",
      "mimetype": "text/x-python",
      "name": "python",
      "nbconvert_exporter": "python",
      "pygments_lexer": "ipython3",
      "version": "3.6.4"
    },
    "colab": {
      "name": "Traffic Signs Starter Project.ipynb",
      "provenance": [],
      "collapsed_sections": []
    },
    "accelerator": "GPU"
  },
  "cells": [
    {
      "cell_type": "markdown",
      "metadata": {
        "id": "tCQcGcbnHZMs"
      },
      "source": [
        "**TRAFFIC SIGNS RECOGNITION FOR ADAS**"
      ]
    },
    {
      "cell_type": "markdown",
      "metadata": {
        "id": "hdWkQQwfHosQ"
      },
      "source": [
        "cloning data set to be used for the training of classification model\r\n"
      ]
    },
    {
      "cell_type": "code",
      "metadata": {
        "id": "RT4rXCiAX_0j",
        "colab": {
          "base_uri": "https://localhost:8080/"
        },
        "outputId": "3c059578-1ddc-401e-f23c-354f8dddde6d"
      },
      "source": [
        "!git clone https://bitbucket.org/jadslim/german-traffic-signs"
      ],
      "execution_count": 1,
      "outputs": [
        {
          "output_type": "stream",
          "text": [
            "Cloning into 'german-traffic-signs'...\n",
            "remote: Counting objects: 6, done.\u001b[K\n",
            "remote: Compressing objects: 100% (6/6), done.\u001b[K\n",
            "remote: Total 6 (delta 0), reused 0 (delta 0)\u001b[K\n",
            "Unpacking objects: 100% (6/6), done.\n"
          ],
          "name": "stdout"
        }
      ]
    },
    {
      "cell_type": "code",
      "metadata": {
        "id": "FZg31JYIZ99f",
        "colab": {
          "base_uri": "https://localhost:8080/"
        },
        "outputId": "78fb96ec-6482-414e-f4b4-8a7a1bd54089"
      },
      "source": [
        "!ls german-traffic-signs"
      ],
      "execution_count": 2,
      "outputs": [
        {
          "output_type": "stream",
          "text": [
            "signnames.csv  test.p  train.p\tvalid.p\n"
          ],
          "name": "stdout"
        }
      ]
    },
    {
      "cell_type": "markdown",
      "metadata": {
        "id": "aXkDIAOOH3YV"
      },
      "source": [
        "importing necessary python packages\r\n"
      ]
    },
    {
      "cell_type": "code",
      "metadata": {
        "id": "ImIQF54jX2_f"
      },
      "source": [
        "import numpy as np\n",
        "import matplotlib.pyplot as plt\n",
        "import keras\n",
        "from keras.models import Sequential\n",
        "from keras.layers import Dense\n",
        "from keras.optimizers import Adam\n",
        "from keras.utils.np_utils import to_categorical\n",
        "from keras.layers import Dropout, Flatten\n",
        "from keras.layers.convolutional import Conv2D, MaxPooling2D\n",
        "import pickle\n",
        "import random\n",
        "import pandas as pd"
      ],
      "execution_count": 3,
      "outputs": []
    },
    {
      "cell_type": "code",
      "metadata": {
        "id": "q-7QPQGOX2_z"
      },
      "source": [
        "np.random.seed(0)"
      ],
      "execution_count": 4,
      "outputs": []
    },
    {
      "cell_type": "markdown",
      "metadata": {
        "id": "LR8tR3A0ICGz"
      },
      "source": [
        "unpacking downloaded data into training validation and test set"
      ]
    },
    {
      "cell_type": "code",
      "metadata": {
        "id": "4potZ_QfcFY3"
      },
      "source": [
        "#unpickeling thw data files from the directory\n",
        "with open('german-traffic-signs/train.p','rb') as file:\n",
        "  train_data = pickle.load(file)\n",
        "with open('german-traffic-signs/valid.p','rb') as file:\n",
        "  val_data = pickle.load(file)\n",
        "with open('german-traffic-signs/test.p','rb') as file:\n",
        "  test_data = pickle.load(file)\n",
        "\n",
        "#converting the data of key value pair into array of data\n",
        "X_train,y_train = train_data['features'],train_data['labels']\n",
        "X_val,y_val = val_data['features'],val_data['labels']\n",
        "X_test,y_test = test_data['features'],test_data['labels']"
      ],
      "execution_count": 5,
      "outputs": []
    },
    {
      "cell_type": "code",
      "metadata": {
        "id": "lSuKa6lCdlAg"
      },
      "source": [
        "assert(X_train.shape[0] == y_train.shape[0]),'number of labels and the number of features are not equal'\n",
        "assert(X_val.shape[0] == y_val.shape[0]),'number of labels and the number of features are not equal'\n",
        "assert(X_test.shape[0] == y_test.shape[0]),'number of labels and the number of features are not equal'"
      ],
      "execution_count": 6,
      "outputs": []
    },
    {
      "cell_type": "code",
      "metadata": {
        "id": "2wS2RZLSfMPH"
      },
      "source": [
        "data = pd.read_csv('german-traffic-signs/signnames.csv')\n",
        "  \n",
        "num_of_samples=[]\n",
        " \n",
        "cols = 5\n",
        "num_classes = 43\n",
        " \n",
        "\n",
        "for i in range(cols):\n",
        "    for j, row in data.iterrows():\n",
        "      x_selected = X_train[y_train == j]\n",
        "      \n",
        "      if i == 2:\n",
        "        \n",
        "        num_of_samples.append(len(x_selected))"
      ],
      "execution_count": 7,
      "outputs": []
    },
    {
      "cell_type": "code",
      "metadata": {
        "id": "URmcapL3kGt9"
      },
      "source": [
        "import cv2\n",
        "\n"
      ],
      "execution_count": 8,
      "outputs": []
    },
    {
      "cell_type": "markdown",
      "metadata": {
        "id": "ACfxkSMfINtp"
      },
      "source": [
        "defining functions for input data preprocessing"
      ]
    },
    {
      "cell_type": "code",
      "metadata": {
        "id": "l3Fc5JCI3Ylm"
      },
      "source": [
        "def grayscale(img):\n",
        "  img = cv2.cvtColor(img,cv2.COLOR_BGR2GRAY)\n",
        "  return img\n",
        "\n"
      ],
      "execution_count": 9,
      "outputs": []
    },
    {
      "cell_type": "code",
      "metadata": {
        "id": "gFirtEdU5NcH"
      },
      "source": [
        "def equalize(img):\n",
        "  img = cv2.equalizeHist(img)\n",
        "  return img\n",
        "\n"
      ],
      "execution_count": 10,
      "outputs": []
    },
    {
      "cell_type": "code",
      "metadata": {
        "id": "TvuSsJulDFBe"
      },
      "source": [
        "def preprocessing(img):\n",
        "  img = grayscale(img)\n",
        "  img = equalize(img)\n",
        "  img = img /255\n",
        "  return img"
      ],
      "execution_count": 11,
      "outputs": []
    },
    {
      "cell_type": "markdown",
      "metadata": {
        "id": "LPMj0ZDQIgqI"
      },
      "source": [
        "**DATA PREPROCESSING**:\r\n",
        "\r\n",
        "Preprocessing training,valiidation and test data"
      ]
    },
    {
      "cell_type": "code",
      "metadata": {
        "id": "mnTVFYaCHVoo"
      },
      "source": [
        "X_train = np.array(list(map(preprocessing,X_train)))\n",
        "X_val = np.array(list(map(preprocessing,X_val)))\n",
        "X_test = np.array(list(map(preprocessing,X_test)))"
      ],
      "execution_count": 12,
      "outputs": []
    },
    {
      "cell_type": "code",
      "metadata": {
        "id": "vAL60DlcJRu6"
      },
      "source": [
        "#adding dimensions\n",
        "X_train = X_train.reshape(34799, 32, 32,1)\n",
        "X_test = X_test.reshape(12630, 32, 32,1)\n",
        "X_val = X_val.reshape(4410, 32, 32,1)"
      ],
      "execution_count": 13,
      "outputs": []
    },
    {
      "cell_type": "code",
      "metadata": {
        "id": "8s6KDyE0k-_H"
      },
      "source": [
        "#synthetic data generation/augmented data\n",
        "from keras.preprocessing.image import ImageDataGenerator\n",
        "datagen = ImageDataGenerator(width_shift_range = 0.1,\n",
        "                   height_shift_range = 0.1,\n",
        "                   zoom_range = 0.2,\n",
        "                   shear_range = 0.1,\n",
        "                   rotation_range = 10)\n",
        "datagen.fit(X_train)\n"
      ],
      "execution_count": 29,
      "outputs": []
    },
    {
      "cell_type": "markdown",
      "metadata": {
        "id": "qrttLLtHLm9b"
      },
      "source": [
        "data red hot encoding"
      ]
    },
    {
      "cell_type": "code",
      "metadata": {
        "id": "C_gJKJWxLLWi"
      },
      "source": [
        "#red hot encoding of the labels\n",
        "y_train = to_categorical(y_train , num_classes)\n",
        "y_test = to_categorical(y_test , num_classes)\n",
        "y_val = to_categorical(y_val , num_classes)"
      ],
      "execution_count": 30,
      "outputs": []
    },
    {
      "cell_type": "markdown",
      "metadata": {
        "id": "VxH5IHIfLr_6"
      },
      "source": [
        "**MODEL ARCHITECTURE**\r\n",
        "\r\n",
        "creating model architecture for classification\r\n"
      ]
    },
    {
      "cell_type": "code",
      "metadata": {
        "id": "5O0aCGMlLob5"
      },
      "source": [
        "def leNet():\n",
        "  model = Sequential()\n",
        "  model.add(Conv2D(60,(5,5),input_shape = (32,32,1),activation = 'relu'))\n",
        "  model.add(Conv2D(60,(5,5),activation = 'relu'))\n",
        "  model.add(MaxPooling2D((2,2)))\n",
        "  \n",
        "  model.add(Conv2D(30,(3,3),activation='relu'))\n",
        "  model.add(Conv2D(30,(3,3),activation='relu'))\n",
        "  model.add(MaxPooling2D((2,2)))\n",
        "  \n",
        "  model.add(Flatten())\n",
        "  model.add(Dense(500,activation = 'relu'))\n",
        "  model.add(Dropout(0.5))\n",
        "  model.add(Dense(num_classes,activation='softmax'))\n",
        "  #compiling the model\n",
        "  model.compile(Adam(lr = 0.001),'categorical_crossentropy',metrics = ['accuracy'])\n",
        "  return model"
      ],
      "execution_count": 16,
      "outputs": []
    },
    {
      "cell_type": "markdown",
      "metadata": {
        "id": "nFyIMZ6kL2ai"
      },
      "source": [
        "**TRAINING MODEL**\r\n",
        "\r\n",
        "training the model for 10 epochs"
      ]
    },
    {
      "cell_type": "code",
      "metadata": {
        "id": "V4cEg9aDE2d8",
        "colab": {
          "base_uri": "https://localhost:8080/"
        },
        "outputId": "64ca456a-d012-4ce3-f29f-99b7fb3c1ee7"
      },
      "source": [
        "model = leNet()\n",
        "h = model.fit_generator(datagen.flow(X_train, y_train, batch_size=50),\n",
        "                            steps_per_epoch=X_train.shape[0]/50,\n",
        "                            epochs=10,\n",
        "                            validation_data=(X_val, y_val), shuffle = 1)"
      ],
      "execution_count": 17,
      "outputs": [
        {
          "output_type": "stream",
          "text": [
            "/usr/local/lib/python3.6/dist-packages/tensorflow/python/keras/engine/training.py:1844: UserWarning: `Model.fit_generator` is deprecated and will be removed in a future version. Please use `Model.fit`, which supports generators.\n",
            "  warnings.warn('`Model.fit_generator` is deprecated and '\n"
          ],
          "name": "stderr"
        },
        {
          "output_type": "stream",
          "text": [
            "Epoch 1/10\n",
            "695/695 [==============================] - 17s 15ms/step - loss: 2.7575 - accuracy: 0.2452 - val_loss: 0.3331 - val_accuracy: 0.8816\n",
            "Epoch 2/10\n",
            "695/695 [==============================] - 10s 15ms/step - loss: 0.6473 - accuracy: 0.7964 - val_loss: 0.1076 - val_accuracy: 0.9698\n",
            "Epoch 3/10\n",
            "695/695 [==============================] - 10s 15ms/step - loss: 0.3389 - accuracy: 0.8925 - val_loss: 0.0853 - val_accuracy: 0.9741\n",
            "Epoch 4/10\n",
            "695/695 [==============================] - 10s 15ms/step - loss: 0.2440 - accuracy: 0.9220 - val_loss: 0.0636 - val_accuracy: 0.9832\n",
            "Epoch 5/10\n",
            "695/695 [==============================] - 10s 15ms/step - loss: 0.1911 - accuracy: 0.9394 - val_loss: 0.0509 - val_accuracy: 0.9819\n",
            "Epoch 6/10\n",
            "695/695 [==============================] - 10s 15ms/step - loss: 0.1759 - accuracy: 0.9434 - val_loss: 0.0471 - val_accuracy: 0.9853\n",
            "Epoch 7/10\n",
            "695/695 [==============================] - 10s 15ms/step - loss: 0.1533 - accuracy: 0.9521 - val_loss: 0.0594 - val_accuracy: 0.9810\n",
            "Epoch 8/10\n",
            "695/695 [==============================] - 10s 15ms/step - loss: 0.1402 - accuracy: 0.9564 - val_loss: 0.0538 - val_accuracy: 0.9846\n",
            "Epoch 9/10\n",
            "695/695 [==============================] - 10s 15ms/step - loss: 0.1222 - accuracy: 0.9620 - val_loss: 0.0381 - val_accuracy: 0.9889\n",
            "Epoch 10/10\n",
            "695/695 [==============================] - 10s 15ms/step - loss: 0.1134 - accuracy: 0.9643 - val_loss: 0.0427 - val_accuracy: 0.9875\n"
          ],
          "name": "stdout"
        }
      ]
    },
    {
      "cell_type": "markdown",
      "metadata": {
        "id": "BuDdxzACL_IY"
      },
      "source": [
        "evaluating model on test set"
      ]
    },
    {
      "cell_type": "code",
      "metadata": {
        "id": "C6aBMiPJZVNS",
        "colab": {
          "base_uri": "https://localhost:8080/"
        },
        "outputId": "227d4eb9-2a8f-499a-f59e-9395c5b9655b"
      },
      "source": [
        "score = model.evaluate(X_test,y_test)\n",
        "print('loss',score[0])\n",
        "print('accuracy',score[1])"
      ],
      "execution_count": 18,
      "outputs": [
        {
          "output_type": "stream",
          "text": [
            "395/395 [==============================] - 1s 2ms/step - loss: 0.1487 - accuracy: 0.9626\n",
            "loss 0.14868418872356415\n",
            "accuracy 0.9626286625862122\n"
          ],
          "name": "stdout"
        }
      ]
    },
    {
      "cell_type": "markdown",
      "metadata": {
        "id": "lHa6G10sMDdo"
      },
      "source": [
        "visualizing training behaviour\r\n"
      ]
    },
    {
      "cell_type": "code",
      "metadata": {
        "id": "CzlFimxkUv0k",
        "colab": {
          "base_uri": "https://localhost:8080/",
          "height": 312
        },
        "outputId": "ba571943-0263-4590-e745-cb1eff5d0421"
      },
      "source": [
        "plt.plot(h.history['loss'])\n",
        "plt.plot(h.history['val_loss'])\n",
        "plt.title('Loss')\n",
        "plt.xlabel('epoch')"
      ],
      "execution_count": 19,
      "outputs": [
        {
          "output_type": "execute_result",
          "data": {
            "text/plain": [
              "Text(0.5, 0, 'epoch')"
            ]
          },
          "metadata": {
            "tags": []
          },
          "execution_count": 19
        },
        {
          "output_type": "display_data",
          "data": {
            "image/png": "[encoded data removed]",
            "text/plain": [
              "<Figure size 432x288 with 1 Axes>"
            ]
          },
          "metadata": {
            "tags": [],
            "needs_background": "light"
          }
        }
      ]
    },
    {
      "cell_type": "markdown",
      "metadata": {
        "id": "pMWPeU5nMKqr"
      },
      "source": [
        "**MODEL VISULAIZATION**\r\n",
        "\r\n",
        " testing the model on a random image"
      ]
    },
    {
      "cell_type": "code",
      "metadata": {
        "id": "9xtlA4mwbhCD",
        "colab": {
          "base_uri": "https://localhost:8080/",
          "height": 286
        },
        "outputId": "7883309f-0fc1-477e-bb55-b11f0d79105f"
      },
      "source": [
        "#predicting traffic signs\n",
        "import requests\n",
        "from PIL import Image\n",
        "url = 'https://c8.alamy.com/comp/J2MRAJ/german-road-sign-bicycles-crossing-J2MRAJ.jpg'\n",
        "r = requests.get(url,stream = True)\n",
        "img = Image.open(r.raw)\n",
        "plt.imshow(img,cmap = plt.get_cmap('gray'))"
      ],
      "execution_count": 26,
      "outputs": [
        {
          "output_type": "execute_result",
          "data": {
            "text/plain": [
              "<matplotlib.image.AxesImage at 0x7f1bb212bf98>"
            ]
          },
          "metadata": {
            "tags": []
          },
          "execution_count": 26
        },
        {
          "output_type": "display_data",
          "data": {
            "image/png": "[encoded data removed]",
            "text/plain": [
              "<Figure size 432x288 with 1 Axes>"
            ]
          },
          "metadata": {
            "tags": [],
            "needs_background": "light"
          }
        }
      ]
    },
    {
      "cell_type": "code",
      "metadata": {
        "id": "RW5KdF0NclVo",
        "colab": {
          "base_uri": "https://localhost:8080/",
          "height": 283
        },
        "outputId": "1e5f3a3e-0ca9-4ebf-fd47-f8e66bcac645"
      },
      "source": [
        "\n",
        "#preprocessing image\n",
        "img = np.asarray(img)\n",
        "img = cv2.resize(img,(32,32))\n",
        "img = preprocessing(img)\n",
        "plt.imshow(img,cmap=plt.get_cmap('gray'))\n",
        "print(img.shape)"
      ],
      "execution_count": 27,
      "outputs": [
        {
          "output_type": "stream",
          "text": [
            "(32, 32)\n"
          ],
          "name": "stdout"
        },
        {
          "output_type": "display_data",
          "data": {
            "image/png": "[encoded data removed]",
            "text/plain": [
              "<Figure size 432x288 with 1 Axes>"
            ]
          },
          "metadata": {
            "tags": [],
            "needs_background": "light"
          }
        }
      ]
    },
    {
      "cell_type": "code",
      "metadata": {
        "id": "iuXQTj5VeA46",
        "colab": {
          "base_uri": "https://localhost:8080/"
        },
        "outputId": "c37fffc9-9abf-467a-d7c1-25b52c2c5673"
      },
      "source": [
        "\n",
        "#adding depth\n",
        "img = img.reshape(1,32,32,1)\n",
        "#predicting class\n",
        "data = np.asarray(data)\n",
        "prediction = model.predict_classes(img)\n",
        "\n",
        "\n",
        "print('prediction is:',data[prediction,1])"
      ],
      "execution_count": 28,
      "outputs": [
        {
          "output_type": "stream",
          "text": [
            "prediction is: ['Road narrows on the right']\n"
          ],
          "name": "stdout"
        },
        {
          "output_type": "stream",
          "text": [
            "/usr/local/lib/python3.6/dist-packages/tensorflow/python/keras/engine/sequential.py:450: UserWarning: `model.predict_classes()` is deprecated and will be removed after 2021-01-01. Please use instead:* `np.argmax(model.predict(x), axis=-1)`,   if your model does multi-class classification   (e.g. if it uses a `softmax` last-layer activation).* `(model.predict(x) > 0.5).astype(\"int32\")`,   if your model does binary classification   (e.g. if it uses a `sigmoid` last-layer activation).\n",
            "  warnings.warn('`model.predict_classes()` is deprecated and '\n"
          ],
          "name": "stderr"
        }
      ]
    },
    {
      "cell_type": "code",
      "metadata": {
        "id": "RFNBpSAIlFVw"
      },
      "source": [
        ""
      ],
      "execution_count": null,
      "outputs": []
    }
  ]
}